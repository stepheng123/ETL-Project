{
 "metadata": {
  "language_info": {
   "codemirror_mode": {
    "name": "ipython",
    "version": 3
   },
   "file_extension": ".py",
   "mimetype": "text/x-python",
   "name": "python",
   "nbconvert_exporter": "python",
   "pygments_lexer": "ipython3",
   "version": "3.7.7-final"
  },
  "orig_nbformat": 2,
  "kernelspec": {
   "name": "python_defaultSpec_1598527878470",
   "display_name": "Python 3.7.7 64-bit ('base': conda)"
  }
 },
 "nbformat": 4,
 "nbformat_minor": 2,
 "cells": [
  {
   "cell_type": "code",
   "execution_count": 2,
   "metadata": {},
   "outputs": [],
   "source": [
    "import pandas as pd"
   ]
  },
  {
   "cell_type": "code",
   "execution_count": 6,
   "metadata": {
    "tags": []
   },
   "outputs": [
    {
     "output_type": "execute_result",
     "data": {
      "text/plain": "      dateRep  day  month  year  cases  deaths countriesAndTerritories geoId  \\\n0  25/08/2020   25      8  2020     71      10             Afghanistan    AF   \n1  24/08/2020   24      8  2020      0       0             Afghanistan    AF   \n2  23/08/2020   23      8  2020    105       2             Afghanistan    AF   \n3  22/08/2020   22      8  2020     38       0             Afghanistan    AF   \n4  21/08/2020   21      8  2020     97       2             Afghanistan    AF   \n\n  countryterritoryCode  popData2019 continentExp  \\\n0                  AFG   38041757.0         Asia   \n1                  AFG   38041757.0         Asia   \n2                  AFG   38041757.0         Asia   \n3                  AFG   38041757.0         Asia   \n4                  AFG   38041757.0         Asia   \n\n   Cumulative_number_for_14_days_of_COVID-19_cases_per_100000  \n0                                           2.670749           \n1                                           2.484112           \n2                                           2.484112           \n3                                           2.310619           \n4                                           2.415766           ",
      "text/html": "<div>\n<style scoped>\n    .dataframe tbody tr th:only-of-type {\n        vertical-align: middle;\n    }\n\n    .dataframe tbody tr th {\n        vertical-align: top;\n    }\n\n    .dataframe thead th {\n        text-align: right;\n    }\n</style>\n<table border=\"1\" class=\"dataframe\">\n  <thead>\n    <tr style=\"text-align: right;\">\n      <th></th>\n      <th>dateRep</th>\n      <th>day</th>\n      <th>month</th>\n      <th>year</th>\n      <th>cases</th>\n      <th>deaths</th>\n      <th>countriesAndTerritories</th>\n      <th>geoId</th>\n      <th>countryterritoryCode</th>\n      <th>popData2019</th>\n      <th>continentExp</th>\n      <th>Cumulative_number_for_14_days_of_COVID-19_cases_per_100000</th>\n    </tr>\n  </thead>\n  <tbody>\n    <tr>\n      <th>0</th>\n      <td>25/08/2020</td>\n      <td>25</td>\n      <td>8</td>\n      <td>2020</td>\n      <td>71</td>\n      <td>10</td>\n      <td>Afghanistan</td>\n      <td>AF</td>\n      <td>AFG</td>\n      <td>38041757.0</td>\n      <td>Asia</td>\n      <td>2.670749</td>\n    </tr>\n    <tr>\n      <th>1</th>\n      <td>24/08/2020</td>\n      <td>24</td>\n      <td>8</td>\n      <td>2020</td>\n      <td>0</td>\n      <td>0</td>\n      <td>Afghanistan</td>\n      <td>AF</td>\n      <td>AFG</td>\n      <td>38041757.0</td>\n      <td>Asia</td>\n      <td>2.484112</td>\n    </tr>\n    <tr>\n      <th>2</th>\n      <td>23/08/2020</td>\n      <td>23</td>\n      <td>8</td>\n      <td>2020</td>\n      <td>105</td>\n      <td>2</td>\n      <td>Afghanistan</td>\n      <td>AF</td>\n      <td>AFG</td>\n      <td>38041757.0</td>\n      <td>Asia</td>\n      <td>2.484112</td>\n    </tr>\n    <tr>\n      <th>3</th>\n      <td>22/08/2020</td>\n      <td>22</td>\n      <td>8</td>\n      <td>2020</td>\n      <td>38</td>\n      <td>0</td>\n      <td>Afghanistan</td>\n      <td>AF</td>\n      <td>AFG</td>\n      <td>38041757.0</td>\n      <td>Asia</td>\n      <td>2.310619</td>\n    </tr>\n    <tr>\n      <th>4</th>\n      <td>21/08/2020</td>\n      <td>21</td>\n      <td>8</td>\n      <td>2020</td>\n      <td>97</td>\n      <td>2</td>\n      <td>Afghanistan</td>\n      <td>AF</td>\n      <td>AFG</td>\n      <td>38041757.0</td>\n      <td>Asia</td>\n      <td>2.415766</td>\n    </tr>\n  </tbody>\n</table>\n</div>"
     },
     "metadata": {},
     "execution_count": 6
    }
   ],
   "source": [
    "all_df = pd.read_csv (r'data_covid_cases.csv')\n",
    "all_df.head ()"
   ]
  },
  {
   "cell_type": "code",
   "execution_count": 8,
   "metadata": {},
   "outputs": [
    {
     "output_type": "execute_result",
     "data": {
      "text/plain": "      dateRep  day  month  year  cases  deaths countriesAndTerritories geoId  \\\n0  25/08/2020   25      8  2020     71      10             Afghanistan    AF   \n1  24/08/2020   24      8  2020      0       0             Afghanistan    AF   \n2  23/08/2020   23      8  2020    105       2             Afghanistan    AF   \n3  22/08/2020   22      8  2020     38       0             Afghanistan    AF   \n4  21/08/2020   21      8  2020     97       2             Afghanistan    AF   \n\n  countryterritoryCode  popData2019 continentExp  \\\n0                  AFG   38041757.0         Asia   \n1                  AFG   38041757.0         Asia   \n2                  AFG   38041757.0         Asia   \n3                  AFG   38041757.0         Asia   \n4                  AFG   38041757.0         Asia   \n\n   Cumulative_number_for_14_days_of_COVID-19_cases_per_100000  \n0                                           2.670749           \n1                                           2.484112           \n2                                           2.484112           \n3                                           2.310619           \n4                                           2.415766           ",
      "text/html": "<div>\n<style scoped>\n    .dataframe tbody tr th:only-of-type {\n        vertical-align: middle;\n    }\n\n    .dataframe tbody tr th {\n        vertical-align: top;\n    }\n\n    .dataframe thead th {\n        text-align: right;\n    }\n</style>\n<table border=\"1\" class=\"dataframe\">\n  <thead>\n    <tr style=\"text-align: right;\">\n      <th></th>\n      <th>dateRep</th>\n      <th>day</th>\n      <th>month</th>\n      <th>year</th>\n      <th>cases</th>\n      <th>deaths</th>\n      <th>countriesAndTerritories</th>\n      <th>geoId</th>\n      <th>countryterritoryCode</th>\n      <th>popData2019</th>\n      <th>continentExp</th>\n      <th>Cumulative_number_for_14_days_of_COVID-19_cases_per_100000</th>\n    </tr>\n  </thead>\n  <tbody>\n    <tr>\n      <th>0</th>\n      <td>25/08/2020</td>\n      <td>25</td>\n      <td>8</td>\n      <td>2020</td>\n      <td>71</td>\n      <td>10</td>\n      <td>Afghanistan</td>\n      <td>AF</td>\n      <td>AFG</td>\n      <td>38041757.0</td>\n      <td>Asia</td>\n      <td>2.670749</td>\n    </tr>\n    <tr>\n      <th>1</th>\n      <td>24/08/2020</td>\n      <td>24</td>\n      <td>8</td>\n      <td>2020</td>\n      <td>0</td>\n      <td>0</td>\n      <td>Afghanistan</td>\n      <td>AF</td>\n      <td>AFG</td>\n      <td>38041757.0</td>\n      <td>Asia</td>\n      <td>2.484112</td>\n    </tr>\n    <tr>\n      <th>2</th>\n      <td>23/08/2020</td>\n      <td>23</td>\n      <td>8</td>\n      <td>2020</td>\n      <td>105</td>\n      <td>2</td>\n      <td>Afghanistan</td>\n      <td>AF</td>\n      <td>AFG</td>\n      <td>38041757.0</td>\n      <td>Asia</td>\n      <td>2.484112</td>\n    </tr>\n    <tr>\n      <th>3</th>\n      <td>22/08/2020</td>\n      <td>22</td>\n      <td>8</td>\n      <td>2020</td>\n      <td>38</td>\n      <td>0</td>\n      <td>Afghanistan</td>\n      <td>AF</td>\n      <td>AFG</td>\n      <td>38041757.0</td>\n      <td>Asia</td>\n      <td>2.310619</td>\n    </tr>\n    <tr>\n      <th>4</th>\n      <td>21/08/2020</td>\n      <td>21</td>\n      <td>8</td>\n      <td>2020</td>\n      <td>97</td>\n      <td>2</td>\n      <td>Afghanistan</td>\n      <td>AF</td>\n      <td>AFG</td>\n      <td>38041757.0</td>\n      <td>Asia</td>\n      <td>2.415766</td>\n    </tr>\n  </tbody>\n</table>\n</div>"
     },
     "metadata": {},
     "execution_count": 8
    }
   ],
   "source": [
    "clean_df = all_df.dropna(how=\"any\")\n",
    "clean_df.head()"
   ]
  },
  {
   "cell_type": "code",
   "execution_count": 11,
   "metadata": {},
   "outputs": [
    {
     "output_type": "execute_result",
     "data": {
      "text/plain": "        dateRep  day  month  year  cases  deaths countriesAndTerritories  \\\n229  25/08/2020   25      8  2020    178       4                 Albania   \n230  24/08/2020   24      8  2020    152       5                 Albania   \n231  23/08/2020   23      8  2020    156       5                 Albania   \n232  22/08/2020   22      8  2020    152       2                 Albania   \n233  21/08/2020   21      8  2020    155       4                 Albania   \n\n    geoId countryterritoryCode  popData2019 continentExp  \\\n229    AL                  ALB    2862427.0       Europe   \n230    AL                  ALB    2862427.0       Europe   \n231    AL                  ALB    2862427.0       Europe   \n232    AL                  ALB    2862427.0       Europe   \n233    AL                  ALB    2862427.0       Europe   \n\n     Cumulative_number_for_14_days_of_COVID-19_cases_per_100000  \n229                                          72.281319           \n230                                          70.429744           \n231                                          69.870777           \n232                                          68.752845           \n233                                          68.158943           ",
      "text/html": "<div>\n<style scoped>\n    .dataframe tbody tr th:only-of-type {\n        vertical-align: middle;\n    }\n\n    .dataframe tbody tr th {\n        vertical-align: top;\n    }\n\n    .dataframe thead th {\n        text-align: right;\n    }\n</style>\n<table border=\"1\" class=\"dataframe\">\n  <thead>\n    <tr style=\"text-align: right;\">\n      <th></th>\n      <th>dateRep</th>\n      <th>day</th>\n      <th>month</th>\n      <th>year</th>\n      <th>cases</th>\n      <th>deaths</th>\n      <th>countriesAndTerritories</th>\n      <th>geoId</th>\n      <th>countryterritoryCode</th>\n      <th>popData2019</th>\n      <th>continentExp</th>\n      <th>Cumulative_number_for_14_days_of_COVID-19_cases_per_100000</th>\n    </tr>\n  </thead>\n  <tbody>\n    <tr>\n      <th>229</th>\n      <td>25/08/2020</td>\n      <td>25</td>\n      <td>8</td>\n      <td>2020</td>\n      <td>178</td>\n      <td>4</td>\n      <td>Albania</td>\n      <td>AL</td>\n      <td>ALB</td>\n      <td>2862427.0</td>\n      <td>Europe</td>\n      <td>72.281319</td>\n    </tr>\n    <tr>\n      <th>230</th>\n      <td>24/08/2020</td>\n      <td>24</td>\n      <td>8</td>\n      <td>2020</td>\n      <td>152</td>\n      <td>5</td>\n      <td>Albania</td>\n      <td>AL</td>\n      <td>ALB</td>\n      <td>2862427.0</td>\n      <td>Europe</td>\n      <td>70.429744</td>\n    </tr>\n    <tr>\n      <th>231</th>\n      <td>23/08/2020</td>\n      <td>23</td>\n      <td>8</td>\n      <td>2020</td>\n      <td>156</td>\n      <td>5</td>\n      <td>Albania</td>\n      <td>AL</td>\n      <td>ALB</td>\n      <td>2862427.0</td>\n      <td>Europe</td>\n      <td>69.870777</td>\n    </tr>\n    <tr>\n      <th>232</th>\n      <td>22/08/2020</td>\n      <td>22</td>\n      <td>8</td>\n      <td>2020</td>\n      <td>152</td>\n      <td>2</td>\n      <td>Albania</td>\n      <td>AL</td>\n      <td>ALB</td>\n      <td>2862427.0</td>\n      <td>Europe</td>\n      <td>68.752845</td>\n    </tr>\n    <tr>\n      <th>233</th>\n      <td>21/08/2020</td>\n      <td>21</td>\n      <td>8</td>\n      <td>2020</td>\n      <td>155</td>\n      <td>4</td>\n      <td>Albania</td>\n      <td>AL</td>\n      <td>ALB</td>\n      <td>2862427.0</td>\n      <td>Europe</td>\n      <td>68.158943</td>\n    </tr>\n  </tbody>\n</table>\n</div>"
     },
     "metadata": {},
     "execution_count": 11
    }
   ],
   "source": [
    "europe_df = clean_df.loc[clean_df[\"continentExp\"] == \"Europe\"]\n",
    "europe_df.head()"
   ]
  },
  {
   "cell_type": "code",
   "execution_count": 27,
   "metadata": {},
   "outputs": [
    {
     "output_type": "error",
     "ename": "TypeError",
     "evalue": "f() takes 1 positional argument but 2 were given",
     "traceback": [
      "\u001b[1;31m---------------------------------------------------------------------------\u001b[0m",
      "\u001b[1;31mTypeError\u001b[0m                                 Traceback (most recent call last)",
      "\u001b[1;32m<ipython-input-27-d6d270c34f70>\u001b[0m in \u001b[0;36m<module>\u001b[1;34m\u001b[0m\n\u001b[1;32m----> 1\u001b[1;33m \u001b[0mgrouped_df\u001b[0m \u001b[1;33m=\u001b[0m \u001b[0meurope_df\u001b[0m\u001b[1;33m.\u001b[0m\u001b[0mgroupby\u001b[0m\u001b[1;33m(\u001b[0m\u001b[1;33m[\u001b[0m\u001b[1;34m\"countriesAndTerritories\"\u001b[0m\u001b[1;33m,\u001b[0m \u001b[1;34m\"month\"\u001b[0m\u001b[1;33m]\u001b[0m\u001b[1;33m)\u001b[0m\u001b[1;33m.\u001b[0m\u001b[0msum\u001b[0m\u001b[1;33m(\u001b[0m\u001b[1;33m{\u001b[0m\u001b[1;34m'cases'\u001b[0m\u001b[1;33m}\u001b[0m\u001b[1;33m)\u001b[0m\u001b[1;33m\u001b[0m\u001b[1;33m\u001b[0m\u001b[0m\n\u001b[0m\u001b[0;32m      2\u001b[0m \u001b[0mgrouped_df\u001b[0m\u001b[1;33m.\u001b[0m\u001b[0mhead\u001b[0m\u001b[1;33m(\u001b[0m\u001b[1;36m20\u001b[0m\u001b[1;33m)\u001b[0m\u001b[1;33m\u001b[0m\u001b[1;33m\u001b[0m\u001b[0m\n",
      "\u001b[1;31mTypeError\u001b[0m: f() takes 1 positional argument but 2 were given"
     ]
    }
   ],
   "source": [
    "grouped_df = europe_df.groupby([\"countriesAndTerritories\", \"month\"]).sum({'cases'})\n",
    "grouped_df.head(20)"
   ]
  },
  {
   "cell_type": "code",
   "execution_count": null,
   "metadata": {},
   "outputs": [],
   "source": []
  }
 ]
}