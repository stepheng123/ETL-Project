{
 "metadata": {
  "language_info": {
   "codemirror_mode": {
    "name": "ipython",
    "version": 3
   },
   "file_extension": ".py",
   "mimetype": "text/x-python",
   "name": "python",
   "nbconvert_exporter": "python",
   "pygments_lexer": "ipython3",
   "version": "3.7.7-final"
  },
  "orig_nbformat": 2,
  "kernelspec": {
   "name": "python_defaultSpec_1598670096126",
   "display_name": "Python 3.7.7 64-bit ('base': conda)"
  }
 },
 "nbformat": 4,
 "nbformat_minor": 2,
 "cells": [
  {
   "cell_type": "code",
   "execution_count": 1,
   "metadata": {},
   "outputs": [],
   "source": [
    "import pandas as pd"
   ]
  },
  {
   "cell_type": "code",
   "execution_count": 4,
   "metadata": {
    "tags": []
   },
   "outputs": [
    {
     "output_type": "execute_result",
     "data": {
      "text/plain": "      dateRep  day  month  year  cases  deaths countriesAndTerritories geoId  \\\n0  25/08/2020   25      8  2020     71      10             Afghanistan    AF   \n1  24/08/2020   24      8  2020      0       0             Afghanistan    AF   \n2  23/08/2020   23      8  2020    105       2             Afghanistan    AF   \n3  22/08/2020   22      8  2020     38       0             Afghanistan    AF   \n4  21/08/2020   21      8  2020     97       2             Afghanistan    AF   \n\n  countryterritoryCode  popData2019 continentExp  \\\n0                  AFG   38041757.0         Asia   \n1                  AFG   38041757.0         Asia   \n2                  AFG   38041757.0         Asia   \n3                  AFG   38041757.0         Asia   \n4                  AFG   38041757.0         Asia   \n\n   Cumulative_number_for_14_days_of_COVID-19_cases_per_100000  \n0                                           2.670749           \n1                                           2.484112           \n2                                           2.484112           \n3                                           2.310619           \n4                                           2.415766           ",
      "text/html": "<div>\n<style scoped>\n    .dataframe tbody tr th:only-of-type {\n        vertical-align: middle;\n    }\n\n    .dataframe tbody tr th {\n        vertical-align: top;\n    }\n\n    .dataframe thead th {\n        text-align: right;\n    }\n</style>\n<table border=\"1\" class=\"dataframe\">\n  <thead>\n    <tr style=\"text-align: right;\">\n      <th></th>\n      <th>dateRep</th>\n      <th>day</th>\n      <th>month</th>\n      <th>year</th>\n      <th>cases</th>\n      <th>deaths</th>\n      <th>countriesAndTerritories</th>\n      <th>geoId</th>\n      <th>countryterritoryCode</th>\n      <th>popData2019</th>\n      <th>continentExp</th>\n      <th>Cumulative_number_for_14_days_of_COVID-19_cases_per_100000</th>\n    </tr>\n  </thead>\n  <tbody>\n    <tr>\n      <th>0</th>\n      <td>25/08/2020</td>\n      <td>25</td>\n      <td>8</td>\n      <td>2020</td>\n      <td>71</td>\n      <td>10</td>\n      <td>Afghanistan</td>\n      <td>AF</td>\n      <td>AFG</td>\n      <td>38041757.0</td>\n      <td>Asia</td>\n      <td>2.670749</td>\n    </tr>\n    <tr>\n      <th>1</th>\n      <td>24/08/2020</td>\n      <td>24</td>\n      <td>8</td>\n      <td>2020</td>\n      <td>0</td>\n      <td>0</td>\n      <td>Afghanistan</td>\n      <td>AF</td>\n      <td>AFG</td>\n      <td>38041757.0</td>\n      <td>Asia</td>\n      <td>2.484112</td>\n    </tr>\n    <tr>\n      <th>2</th>\n      <td>23/08/2020</td>\n      <td>23</td>\n      <td>8</td>\n      <td>2020</td>\n      <td>105</td>\n      <td>2</td>\n      <td>Afghanistan</td>\n      <td>AF</td>\n      <td>AFG</td>\n      <td>38041757.0</td>\n      <td>Asia</td>\n      <td>2.484112</td>\n    </tr>\n    <tr>\n      <th>3</th>\n      <td>22/08/2020</td>\n      <td>22</td>\n      <td>8</td>\n      <td>2020</td>\n      <td>38</td>\n      <td>0</td>\n      <td>Afghanistan</td>\n      <td>AF</td>\n      <td>AFG</td>\n      <td>38041757.0</td>\n      <td>Asia</td>\n      <td>2.310619</td>\n    </tr>\n    <tr>\n      <th>4</th>\n      <td>21/08/2020</td>\n      <td>21</td>\n      <td>8</td>\n      <td>2020</td>\n      <td>97</td>\n      <td>2</td>\n      <td>Afghanistan</td>\n      <td>AF</td>\n      <td>AFG</td>\n      <td>38041757.0</td>\n      <td>Asia</td>\n      <td>2.415766</td>\n    </tr>\n  </tbody>\n</table>\n</div>"
     },
     "metadata": {},
     "execution_count": 4
    }
   ],
   "source": [
    "#read in data\n",
    "data_file = \"Resources/data_covid_cases.csv\"\n",
    "all_df = pd.read_csv(data_file)\n",
    "all_df.head()"
   ]
  },
  {
   "cell_type": "code",
   "execution_count": 9,
   "metadata": {},
   "outputs": [
    {
     "output_type": "execute_result",
     "data": {
      "text/plain": "      dateRep  day  month  year  cases  deaths    countries geoId  \\\n0  25/08/2020   25      8  2020     71      10  Afghanistan    AF   \n1  24/08/2020   24      8  2020      0       0  Afghanistan    AF   \n2  23/08/2020   23      8  2020    105       2  Afghanistan    AF   \n3  22/08/2020   22      8  2020     38       0  Afghanistan    AF   \n4  21/08/2020   21      8  2020     97       2  Afghanistan    AF   \n\n  country code  popData2019 continents  \\\n0          AFG   38041757.0       Asia   \n1          AFG   38041757.0       Asia   \n2          AFG   38041757.0       Asia   \n3          AFG   38041757.0       Asia   \n4          AFG   38041757.0       Asia   \n\n   number of COVID-19 cases per 100000 (14 Days)  \n0                                       2.670749  \n1                                       2.484112  \n2                                       2.484112  \n3                                       2.310619  \n4                                       2.415766  ",
      "text/html": "<div>\n<style scoped>\n    .dataframe tbody tr th:only-of-type {\n        vertical-align: middle;\n    }\n\n    .dataframe tbody tr th {\n        vertical-align: top;\n    }\n\n    .dataframe thead th {\n        text-align: right;\n    }\n</style>\n<table border=\"1\" class=\"dataframe\">\n  <thead>\n    <tr style=\"text-align: right;\">\n      <th></th>\n      <th>dateRep</th>\n      <th>day</th>\n      <th>month</th>\n      <th>year</th>\n      <th>cases</th>\n      <th>deaths</th>\n      <th>countries</th>\n      <th>geoId</th>\n      <th>country code</th>\n      <th>popData2019</th>\n      <th>continents</th>\n      <th>number of COVID-19 cases per 100000 (14 Days)</th>\n    </tr>\n  </thead>\n  <tbody>\n    <tr>\n      <th>0</th>\n      <td>25/08/2020</td>\n      <td>25</td>\n      <td>8</td>\n      <td>2020</td>\n      <td>71</td>\n      <td>10</td>\n      <td>Afghanistan</td>\n      <td>AF</td>\n      <td>AFG</td>\n      <td>38041757.0</td>\n      <td>Asia</td>\n      <td>2.670749</td>\n    </tr>\n    <tr>\n      <th>1</th>\n      <td>24/08/2020</td>\n      <td>24</td>\n      <td>8</td>\n      <td>2020</td>\n      <td>0</td>\n      <td>0</td>\n      <td>Afghanistan</td>\n      <td>AF</td>\n      <td>AFG</td>\n      <td>38041757.0</td>\n      <td>Asia</td>\n      <td>2.484112</td>\n    </tr>\n    <tr>\n      <th>2</th>\n      <td>23/08/2020</td>\n      <td>23</td>\n      <td>8</td>\n      <td>2020</td>\n      <td>105</td>\n      <td>2</td>\n      <td>Afghanistan</td>\n      <td>AF</td>\n      <td>AFG</td>\n      <td>38041757.0</td>\n      <td>Asia</td>\n      <td>2.484112</td>\n    </tr>\n    <tr>\n      <th>3</th>\n      <td>22/08/2020</td>\n      <td>22</td>\n      <td>8</td>\n      <td>2020</td>\n      <td>38</td>\n      <td>0</td>\n      <td>Afghanistan</td>\n      <td>AF</td>\n      <td>AFG</td>\n      <td>38041757.0</td>\n      <td>Asia</td>\n      <td>2.310619</td>\n    </tr>\n    <tr>\n      <th>4</th>\n      <td>21/08/2020</td>\n      <td>21</td>\n      <td>8</td>\n      <td>2020</td>\n      <td>97</td>\n      <td>2</td>\n      <td>Afghanistan</td>\n      <td>AF</td>\n      <td>AFG</td>\n      <td>38041757.0</td>\n      <td>Asia</td>\n      <td>2.415766</td>\n    </tr>\n  </tbody>\n</table>\n</div>"
     },
     "metadata": {},
     "execution_count": 9
    }
   ],
   "source": [
    "rename_df = all_df.rename(columns={'countriesAndTerritories': 'countries', 'continentExp' : 'continents', 'countryterritoryCode' : 'country code', 'Cumulative_number_for_14_days_of_COVID-19_cases_per_100000': 'number of COVID-19 cases per 100000 (14 Days)' })\n",
    "rename.head()"
   ]
  },
  {
   "cell_type": "code",
   "execution_count": 10,
   "metadata": {},
   "outputs": [
    {
     "output_type": "execute_result",
     "data": {
      "text/plain": "      dateRep  day  month  year  cases  deaths    countries geoId  \\\n0  25/08/2020   25      8  2020     71      10  Afghanistan    AF   \n1  24/08/2020   24      8  2020      0       0  Afghanistan    AF   \n2  23/08/2020   23      8  2020    105       2  Afghanistan    AF   \n3  22/08/2020   22      8  2020     38       0  Afghanistan    AF   \n4  21/08/2020   21      8  2020     97       2  Afghanistan    AF   \n\n  country code  popData2019 continents  \\\n0          AFG   38041757.0       Asia   \n1          AFG   38041757.0       Asia   \n2          AFG   38041757.0       Asia   \n3          AFG   38041757.0       Asia   \n4          AFG   38041757.0       Asia   \n\n   number of COVID-19 cases per 100000 (14 Days)  \n0                                       2.670749  \n1                                       2.484112  \n2                                       2.484112  \n3                                       2.310619  \n4                                       2.415766  ",
      "text/html": "<div>\n<style scoped>\n    .dataframe tbody tr th:only-of-type {\n        vertical-align: middle;\n    }\n\n    .dataframe tbody tr th {\n        vertical-align: top;\n    }\n\n    .dataframe thead th {\n        text-align: right;\n    }\n</style>\n<table border=\"1\" class=\"dataframe\">\n  <thead>\n    <tr style=\"text-align: right;\">\n      <th></th>\n      <th>dateRep</th>\n      <th>day</th>\n      <th>month</th>\n      <th>year</th>\n      <th>cases</th>\n      <th>deaths</th>\n      <th>countries</th>\n      <th>geoId</th>\n      <th>country code</th>\n      <th>popData2019</th>\n      <th>continents</th>\n      <th>number of COVID-19 cases per 100000 (14 Days)</th>\n    </tr>\n  </thead>\n  <tbody>\n    <tr>\n      <th>0</th>\n      <td>25/08/2020</td>\n      <td>25</td>\n      <td>8</td>\n      <td>2020</td>\n      <td>71</td>\n      <td>10</td>\n      <td>Afghanistan</td>\n      <td>AF</td>\n      <td>AFG</td>\n      <td>38041757.0</td>\n      <td>Asia</td>\n      <td>2.670749</td>\n    </tr>\n    <tr>\n      <th>1</th>\n      <td>24/08/2020</td>\n      <td>24</td>\n      <td>8</td>\n      <td>2020</td>\n      <td>0</td>\n      <td>0</td>\n      <td>Afghanistan</td>\n      <td>AF</td>\n      <td>AFG</td>\n      <td>38041757.0</td>\n      <td>Asia</td>\n      <td>2.484112</td>\n    </tr>\n    <tr>\n      <th>2</th>\n      <td>23/08/2020</td>\n      <td>23</td>\n      <td>8</td>\n      <td>2020</td>\n      <td>105</td>\n      <td>2</td>\n      <td>Afghanistan</td>\n      <td>AF</td>\n      <td>AFG</td>\n      <td>38041757.0</td>\n      <td>Asia</td>\n      <td>2.484112</td>\n    </tr>\n    <tr>\n      <th>3</th>\n      <td>22/08/2020</td>\n      <td>22</td>\n      <td>8</td>\n      <td>2020</td>\n      <td>38</td>\n      <td>0</td>\n      <td>Afghanistan</td>\n      <td>AF</td>\n      <td>AFG</td>\n      <td>38041757.0</td>\n      <td>Asia</td>\n      <td>2.310619</td>\n    </tr>\n    <tr>\n      <th>4</th>\n      <td>21/08/2020</td>\n      <td>21</td>\n      <td>8</td>\n      <td>2020</td>\n      <td>97</td>\n      <td>2</td>\n      <td>Afghanistan</td>\n      <td>AF</td>\n      <td>AFG</td>\n      <td>38041757.0</td>\n      <td>Asia</td>\n      <td>2.415766</td>\n    </tr>\n  </tbody>\n</table>\n</div>"
     },
     "metadata": {},
     "execution_count": 10
    }
   ],
   "source": [
    "clean_df = rename_df.dropna(how=\"any\")\n",
    "clean_df.head()"
   ]
  },
  {
   "cell_type": "code",
   "execution_count": 65,
   "metadata": {},
   "outputs": [
    {
     "output_type": "execute_result",
     "data": {
      "text/plain": "        dateRep  day  month  year  cases  deaths countries geoId country code  \\\n229  25/08/2020   25      8  2020    178       4   Albania    AL          ALB   \n230  24/08/2020   24      8  2020    152       5   Albania    AL          ALB   \n231  23/08/2020   23      8  2020    156       5   Albania    AL          ALB   \n232  22/08/2020   22      8  2020    152       2   Albania    AL          ALB   \n233  21/08/2020   21      8  2020    155       4   Albania    AL          ALB   \n\n     popData2019 continents  number of COVID-19 cases per 100000 (14 Days)  \n229    2862427.0     Europe                                      72.281319  \n230    2862427.0     Europe                                      70.429744  \n231    2862427.0     Europe                                      69.870777  \n232    2862427.0     Europe                                      68.752845  \n233    2862427.0     Europe                                      68.158943  ",
      "text/html": "<div>\n<style scoped>\n    .dataframe tbody tr th:only-of-type {\n        vertical-align: middle;\n    }\n\n    .dataframe tbody tr th {\n        vertical-align: top;\n    }\n\n    .dataframe thead th {\n        text-align: right;\n    }\n</style>\n<table border=\"1\" class=\"dataframe\">\n  <thead>\n    <tr style=\"text-align: right;\">\n      <th></th>\n      <th>dateRep</th>\n      <th>day</th>\n      <th>month</th>\n      <th>year</th>\n      <th>cases</th>\n      <th>deaths</th>\n      <th>countries</th>\n      <th>geoId</th>\n      <th>country code</th>\n      <th>popData2019</th>\n      <th>continents</th>\n      <th>number of COVID-19 cases per 100000 (14 Days)</th>\n    </tr>\n  </thead>\n  <tbody>\n    <tr>\n      <th>229</th>\n      <td>25/08/2020</td>\n      <td>25</td>\n      <td>8</td>\n      <td>2020</td>\n      <td>178</td>\n      <td>4</td>\n      <td>Albania</td>\n      <td>AL</td>\n      <td>ALB</td>\n      <td>2862427.0</td>\n      <td>Europe</td>\n      <td>72.281319</td>\n    </tr>\n    <tr>\n      <th>230</th>\n      <td>24/08/2020</td>\n      <td>24</td>\n      <td>8</td>\n      <td>2020</td>\n      <td>152</td>\n      <td>5</td>\n      <td>Albania</td>\n      <td>AL</td>\n      <td>ALB</td>\n      <td>2862427.0</td>\n      <td>Europe</td>\n      <td>70.429744</td>\n    </tr>\n    <tr>\n      <th>231</th>\n      <td>23/08/2020</td>\n      <td>23</td>\n      <td>8</td>\n      <td>2020</td>\n      <td>156</td>\n      <td>5</td>\n      <td>Albania</td>\n      <td>AL</td>\n      <td>ALB</td>\n      <td>2862427.0</td>\n      <td>Europe</td>\n      <td>69.870777</td>\n    </tr>\n    <tr>\n      <th>232</th>\n      <td>22/08/2020</td>\n      <td>22</td>\n      <td>8</td>\n      <td>2020</td>\n      <td>152</td>\n      <td>2</td>\n      <td>Albania</td>\n      <td>AL</td>\n      <td>ALB</td>\n      <td>2862427.0</td>\n      <td>Europe</td>\n      <td>68.752845</td>\n    </tr>\n    <tr>\n      <th>233</th>\n      <td>21/08/2020</td>\n      <td>21</td>\n      <td>8</td>\n      <td>2020</td>\n      <td>155</td>\n      <td>4</td>\n      <td>Albania</td>\n      <td>AL</td>\n      <td>ALB</td>\n      <td>2862427.0</td>\n      <td>Europe</td>\n      <td>68.158943</td>\n    </tr>\n  </tbody>\n</table>\n</div>"
     },
     "metadata": {},
     "execution_count": 65
    }
   ],
   "source": [
    "europe_df = clean_df.loc[clean_df[\"continents\"] == \"Europe\"]\n",
    "europe_df.head()"
   ]
  },
  {
   "cell_type": "code",
   "execution_count": 67,
   "metadata": {},
   "outputs": [
    {
     "output_type": "execute_result",
     "data": {
      "text/plain": "   countries  month  cases  deaths\n0    Albania      3    153      10\n1    Albania      4    543      19\n2    Albania      5    356       2\n3    Albania      6   1344      25\n4    Albania      7   2731      96\n5    Albania      8   3408     100\n6    Andorra      3    182       8\n7    Andorra      4    373      34\n8    Andorra      5     21       9\n9    Andorra      6     91       1\n10   Andorra      7     67       0\n11   Andorra      8    138       1\n12   Armenia      1      0       0\n13   Armenia      2      0       0\n14   Armenia      3    532       3\n15   Armenia      4   1534      29\n16   Armenia      5   7216      99\n17   Armenia      6  16260     312\n18   Armenia      7  13008     295\n19   Armenia      8   4275     116",
      "text/html": "<div>\n<style scoped>\n    .dataframe tbody tr th:only-of-type {\n        vertical-align: middle;\n    }\n\n    .dataframe tbody tr th {\n        vertical-align: top;\n    }\n\n    .dataframe thead th {\n        text-align: right;\n    }\n</style>\n<table border=\"1\" class=\"dataframe\">\n  <thead>\n    <tr style=\"text-align: right;\">\n      <th></th>\n      <th>countries</th>\n      <th>month</th>\n      <th>cases</th>\n      <th>deaths</th>\n    </tr>\n  </thead>\n  <tbody>\n    <tr>\n      <th>0</th>\n      <td>Albania</td>\n      <td>3</td>\n      <td>153</td>\n      <td>10</td>\n    </tr>\n    <tr>\n      <th>1</th>\n      <td>Albania</td>\n      <td>4</td>\n      <td>543</td>\n      <td>19</td>\n    </tr>\n    <tr>\n      <th>2</th>\n      <td>Albania</td>\n      <td>5</td>\n      <td>356</td>\n      <td>2</td>\n    </tr>\n    <tr>\n      <th>3</th>\n      <td>Albania</td>\n      <td>6</td>\n      <td>1344</td>\n      <td>25</td>\n    </tr>\n    <tr>\n      <th>4</th>\n      <td>Albania</td>\n      <td>7</td>\n      <td>2731</td>\n      <td>96</td>\n    </tr>\n    <tr>\n      <th>5</th>\n      <td>Albania</td>\n      <td>8</td>\n      <td>3408</td>\n      <td>100</td>\n    </tr>\n    <tr>\n      <th>6</th>\n      <td>Andorra</td>\n      <td>3</td>\n      <td>182</td>\n      <td>8</td>\n    </tr>\n    <tr>\n      <th>7</th>\n      <td>Andorra</td>\n      <td>4</td>\n      <td>373</td>\n      <td>34</td>\n    </tr>\n    <tr>\n      <th>8</th>\n      <td>Andorra</td>\n      <td>5</td>\n      <td>21</td>\n      <td>9</td>\n    </tr>\n    <tr>\n      <th>9</th>\n      <td>Andorra</td>\n      <td>6</td>\n      <td>91</td>\n      <td>1</td>\n    </tr>\n    <tr>\n      <th>10</th>\n      <td>Andorra</td>\n      <td>7</td>\n      <td>67</td>\n      <td>0</td>\n    </tr>\n    <tr>\n      <th>11</th>\n      <td>Andorra</td>\n      <td>8</td>\n      <td>138</td>\n      <td>1</td>\n    </tr>\n    <tr>\n      <th>12</th>\n      <td>Armenia</td>\n      <td>1</td>\n      <td>0</td>\n      <td>0</td>\n    </tr>\n    <tr>\n      <th>13</th>\n      <td>Armenia</td>\n      <td>2</td>\n      <td>0</td>\n      <td>0</td>\n    </tr>\n    <tr>\n      <th>14</th>\n      <td>Armenia</td>\n      <td>3</td>\n      <td>532</td>\n      <td>3</td>\n    </tr>\n    <tr>\n      <th>15</th>\n      <td>Armenia</td>\n      <td>4</td>\n      <td>1534</td>\n      <td>29</td>\n    </tr>\n    <tr>\n      <th>16</th>\n      <td>Armenia</td>\n      <td>5</td>\n      <td>7216</td>\n      <td>99</td>\n    </tr>\n    <tr>\n      <th>17</th>\n      <td>Armenia</td>\n      <td>6</td>\n      <td>16260</td>\n      <td>312</td>\n    </tr>\n    <tr>\n      <th>18</th>\n      <td>Armenia</td>\n      <td>7</td>\n      <td>13008</td>\n      <td>295</td>\n    </tr>\n    <tr>\n      <th>19</th>\n      <td>Armenia</td>\n      <td>8</td>\n      <td>4275</td>\n      <td>116</td>\n    </tr>\n  </tbody>\n</table>\n</div>"
     },
     "metadata": {},
     "execution_count": 67
    }
   ],
   "source": [
    "grouped_df = europe_df.groupby(by=[\"countries\", \"month\"], as_index=False)[['cases', 'deaths']].sum()\n",
    "grouped_df.head(20)"
   ]
  },
  {
   "cell_type": "code",
   "execution_count": 100,
   "metadata": {},
   "outputs": [
    {
     "output_type": "execute_result",
     "data": {
      "text/plain": "        0\n1  Jan_20\n2  Feb_20\n3  Mar_20\n4  Apr_20\n5  May_20\n6  Jun_20\n7  Jul_20\n8  Aug_20",
      "text/html": "<div>\n<style scoped>\n    .dataframe tbody tr th:only-of-type {\n        vertical-align: middle;\n    }\n\n    .dataframe tbody tr th {\n        vertical-align: top;\n    }\n\n    .dataframe thead th {\n        text-align: right;\n    }\n</style>\n<table border=\"1\" class=\"dataframe\">\n  <thead>\n    <tr style=\"text-align: right;\">\n      <th></th>\n      <th>0</th>\n    </tr>\n  </thead>\n  <tbody>\n    <tr>\n      <th>1</th>\n      <td>Jan_20</td>\n    </tr>\n    <tr>\n      <th>2</th>\n      <td>Feb_20</td>\n    </tr>\n    <tr>\n      <th>3</th>\n      <td>Mar_20</td>\n    </tr>\n    <tr>\n      <th>4</th>\n      <td>Apr_20</td>\n    </tr>\n    <tr>\n      <th>5</th>\n      <td>May_20</td>\n    </tr>\n    <tr>\n      <th>6</th>\n      <td>Jun_20</td>\n    </tr>\n    <tr>\n      <th>7</th>\n      <td>Jul_20</td>\n    </tr>\n    <tr>\n      <th>8</th>\n      <td>Aug_20</td>\n    </tr>\n  </tbody>\n</table>\n</div>"
     },
     "metadata": {},
     "execution_count": 100
    }
   ],
   "source": [
    "months_df = pd.DataFrame.from_dict({1:'Jan_20', 2:'Feb_20', 3:'Mar_20', 4:'Apr_20', 5:'May_20', 6:'Jun_20', 7:'Jul_20', 8:'Aug_20'},orient='index')\n",
    "months_df"
   ]
  },
  {
   "cell_type": "code",
   "execution_count": 18,
   "metadata": {},
   "outputs": [],
   "source": [
    "grouped_df.to_csv('eu_covid_cases.csv')"
   ]
  }
 ]
}